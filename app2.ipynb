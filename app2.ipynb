{
 "cells": [
  {
   "cell_type": "code",
   "execution_count": 2,
   "metadata": {},
   "outputs": [
    {
     "name": "stdout",
     "output_type": "stream",
     "text": [
      "is this working?\n"
     ]
    }
   ],
   "source": [
    "#This is my project\n",
    "import tkinter as tk \n",
    "from PyPDF2 import PdfReader\n",
    "from PIL import Image, ImageTk\n",
    "\n",
    "\n",
    "root = tk.Tk()\n",
    "\n",
    "canvas = tk.Canvas(root, width=600, height=300)\n",
    "canvas.grid(columnspan=3)\n",
    "\n",
    "\n",
    "\n",
    "root.mainloop() \n",
    "\n",
    "\n",
    "\n",
    "print('is this working?')"
   ]
  }
 ],
 "metadata": {
  "kernelspec": {
   "display_name": "Python 3.9.7 ('base')",
   "language": "python",
   "name": "python3"
  },
  "language_info": {
   "codemirror_mode": {
    "name": "ipython",
    "version": 3
   },
   "file_extension": ".py",
   "mimetype": "text/x-python",
   "name": "python",
   "nbconvert_exporter": "python",
   "pygments_lexer": "ipython3",
   "version": "3.9.7"
  },
  "orig_nbformat": 4,
  "vscode": {
   "interpreter": {
    "hash": "5074c294d3907c0c1628e12766652372b0e6648563a314e3a23ff398935330db"
   }
  }
 },
 "nbformat": 4,
 "nbformat_minor": 2
}
