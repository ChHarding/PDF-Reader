{
 "cells": [
  {
   "cell_type": "code",
   "execution_count": 2,
   "metadata": {},
   "outputs": [
    {
     "ename": "FileNotFoundError",
     "evalue": "[Errno 2] No such file or directory: 'logo.png'",
     "output_type": "error",
     "traceback": [
      "\u001b[0;31m---------------------------------------------------------------------------\u001b[0m",
      "\u001b[0;31mFileNotFoundError\u001b[0m                         Traceback (most recent call last)",
      "\u001b[0;32m/var/folders/56/c3dxs8j16v3bk5vjv__rjtfw0000gn/T/ipykernel_11934/1764418373.py\u001b[0m in \u001b[0;36m<module>\u001b[0;34m\u001b[0m\n\u001b[1;32m     14\u001b[0m \u001b[0;34m\u001b[0m\u001b[0m\n\u001b[1;32m     15\u001b[0m \u001b[0;31m#logo\u001b[0m\u001b[0;34m\u001b[0m\u001b[0;34m\u001b[0m\u001b[0m\n\u001b[0;32m---> 16\u001b[0;31m \u001b[0mlogo\u001b[0m \u001b[0;34m=\u001b[0m \u001b[0mImage\u001b[0m\u001b[0;34m.\u001b[0m\u001b[0mopen\u001b[0m\u001b[0;34m(\u001b[0m\u001b[0;34m'logo.png'\u001b[0m\u001b[0;34m)\u001b[0m\u001b[0;34m\u001b[0m\u001b[0;34m\u001b[0m\u001b[0m\n\u001b[0m\u001b[1;32m     17\u001b[0m \u001b[0mlogo\u001b[0m \u001b[0;34m=\u001b[0m \u001b[0mImageTk\u001b[0m\u001b[0;34m.\u001b[0m\u001b[0mPhotoImage\u001b[0m\u001b[0;34m(\u001b[0m\u001b[0mlogo\u001b[0m\u001b[0;34m)\u001b[0m\u001b[0;34m\u001b[0m\u001b[0;34m\u001b[0m\u001b[0m\n\u001b[1;32m     18\u001b[0m \u001b[0mlogo_label\u001b[0m \u001b[0;34m=\u001b[0m \u001b[0mtk\u001b[0m\u001b[0;34m.\u001b[0m\u001b[0mLabel\u001b[0m\u001b[0;34m(\u001b[0m\u001b[0mimage\u001b[0m\u001b[0;34m=\u001b[0m\u001b[0mlogo\u001b[0m\u001b[0;34m)\u001b[0m\u001b[0;34m\u001b[0m\u001b[0;34m\u001b[0m\u001b[0m\n",
      "\u001b[0;32m~/opt/anaconda3/lib/python3.9/site-packages/PIL/Image.py\u001b[0m in \u001b[0;36mopen\u001b[0;34m(fp, mode, formats)\u001b[0m\n\u001b[1;32m   2973\u001b[0m \u001b[0;34m\u001b[0m\u001b[0m\n\u001b[1;32m   2974\u001b[0m     \u001b[0;32mif\u001b[0m \u001b[0mfilename\u001b[0m\u001b[0;34m:\u001b[0m\u001b[0;34m\u001b[0m\u001b[0;34m\u001b[0m\u001b[0m\n\u001b[0;32m-> 2975\u001b[0;31m         \u001b[0mfp\u001b[0m \u001b[0;34m=\u001b[0m \u001b[0mbuiltins\u001b[0m\u001b[0;34m.\u001b[0m\u001b[0mopen\u001b[0m\u001b[0;34m(\u001b[0m\u001b[0mfilename\u001b[0m\u001b[0;34m,\u001b[0m \u001b[0;34m\"rb\"\u001b[0m\u001b[0;34m)\u001b[0m\u001b[0;34m\u001b[0m\u001b[0;34m\u001b[0m\u001b[0m\n\u001b[0m\u001b[1;32m   2976\u001b[0m         \u001b[0mexclusive_fp\u001b[0m \u001b[0;34m=\u001b[0m \u001b[0;32mTrue\u001b[0m\u001b[0;34m\u001b[0m\u001b[0;34m\u001b[0m\u001b[0m\n\u001b[1;32m   2977\u001b[0m \u001b[0;34m\u001b[0m\u001b[0m\n",
      "\u001b[0;31mFileNotFoundError\u001b[0m: [Errno 2] No such file or directory: 'logo.png'"
     ]
    }
   ],
   "source": [
    "#This is my project\n",
    "#importing the items I need for the project \n",
    "import tkinter as tk \n",
    "from tkinter import ttk\n",
    "from PyPDF2 import PdfReader\n",
    "from PIL import Image, ImageTk\n",
    "from tkinter.filedialog import askopenfile\n",
    "\n",
    "\n",
    "root = tk.Tk()\n",
    "\n",
    "canvas = tk.Canvas(root, width=600, height=300)\n",
    "canvas.grid(columnspan=3, rowspan=3) \n",
    "\n",
    "#logo \n",
    "logo = Image.open('logo.png') \n",
    "logo = ImageTk.PhotoImage(logo)\n",
    "logo_label = tk.Label(image=logo)\n",
    "logo_label.image = logo\n",
    "logo_label.grid(column=1, row=0)\n",
    "#ERROR I need to figure out how to get the logo image to pull from the github I think?\n",
    "\n",
    "#instructions \n",
    "instructions = tk.Label(root, text=\"Select a PDF file on your computer to extract all its text\", font= \"Raleway\")\n",
    "instructions.grid(columnspan=3, column=0, row=1)\n",
    "\n",
    "def open_file():\n",
    "    browse_text.set(\"loading...\") #this will set the text to \"loading\" when the user selects a PDF \n",
    "    file = askopenfile(parent=root, mode='rb', title=\"Choose a file\", filetype=[(\"Pdf file\", \"*pdf\")])\n",
    "    if file:\n",
    "        read_pdf = PyPDF2.PdfFileReader(file)\n",
    "        page = read_pdf.getPage(0)\n",
    "        page_content = page.extractText()\n",
    "        \n",
    "\n",
    "        #Text box for the user \n",
    "        text_box = tk.Text(root, height=10, width=50, padx=15, pady=15) #creating text box for PDF file to show up for user \n",
    "        text_box.insert(1.0, page_content)\n",
    "        text_box.tag_configure(\"center\", justify=\"center\") #centering text in the text box\n",
    "        text_box.tag_add(\"center\", 1.0, \"end\")\n",
    "        text_box.grid(column=1, row=3)\n",
    "        \n",
    "\n",
    "        browse_text.set(\"Browse\") #this will set the text back to \"Browse\" after the user has browsed for a PDF \n",
    "\n",
    "\n",
    "\n",
    "\n",
    "\n",
    "#browse button \n",
    "browse_text = tk.StringVar()\n",
    "browse_btn = tk.Button(root, textvariable=browse_text, command=lambda:open_file(), font=\"Raleway\", bg=\"blue\", highlightbackground='#3E4149', fg=\"black\", height=3, width=15)\n",
    "#ERROR having trouble on line above, getting the button to turn blue. bg=\"blue\" I think that this is a mac problem maybe?\n",
    "browse_text.set(\"Browse\")\n",
    "browse_btn.grid(column=1, row=2)\n",
    "\n",
    "\n",
    "#Making the canvas larger so it does not look weird \n",
    "canvas = tk.Canvas(root, width=600, height=250)\n",
    "canvas.grid(columnspan=3,)\n",
    "\n",
    "\n",
    "\n",
    "\n",
    "root.mainloop() \n",
    "\n",
    "\n",
    "\n",
    "print('is this working?')"
   ]
  }
 ],
 "metadata": {
  "kernelspec": {
   "display_name": "Python 3.9.7 ('base')",
   "language": "python",
   "name": "python3"
  },
  "language_info": {
   "codemirror_mode": {
    "name": "ipython",
    "version": 3
   },
   "file_extension": ".py",
   "mimetype": "text/x-python",
   "name": "python",
   "nbconvert_exporter": "python",
   "pygments_lexer": "ipython3",
   "version": "3.9.7"
  },
  "orig_nbformat": 4,
  "vscode": {
   "interpreter": {
    "hash": "5074c294d3907c0c1628e12766652372b0e6648563a314e3a23ff398935330db"
   }
  }
 },
 "nbformat": 4,
 "nbformat_minor": 2
}
